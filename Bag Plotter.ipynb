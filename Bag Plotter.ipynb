{
 "metadata": {
  "name": ""
 },
 "nbformat": 3,
 "nbformat_minor": 0,
 "worksheets": [
  {
   "cells": [
    {
     "cell_type": "code",
     "collapsed": false,
     "input": [
      "import rosbag_pandas\n",
      "import pandas as pd\n",
      "import matplotlib.pyplot as plt\n",
      "import easygui\n",
      "import rosbag\n",
      "import json\n",
      "import numpy as np\n"
     ],
     "language": "python",
     "metadata": {},
     "outputs": [],
     "prompt_number": 23
    },
    {
     "cell_type": "code",
     "collapsed": false,
     "input": [
      "path=easygui.fileopenbox()\n",
      "print path\n",
      "df=rosbag_pandas.bag_to_dataframe(path,include=['/trajectory'])\n",
      "df.columns\n",
      "bag=rosbag.Bag(path)\n",
      "for topic,msg,t in bag.read_messages(topics='/metadata'):\n",
      "    a=msg\n",
      "parameters=json.loads(a.data)\n",
      "\n",
      "# xy=np.array([])\n",
      "# t=np.array([])\n",
      "# index=0\n",
      "# for topic, msg,t in bag.read_messages(topics='/trajectory'):\n",
      "#             xy=np.array([msg.position.x,msg.position.y])\n",
      "#             t[index]=t\n",
      "#             index+=1\n",
      "\n",
      "# with open('tempParams.json','w') as f:\n",
      "#     json.dump(parameters,f)\n",
      "    \n",
      "    "
     ],
     "language": "python",
     "metadata": {},
     "outputs": [
      {
       "output_type": "stream",
       "stream": "stdout",
       "text": [
        "/home/behaviour/catkin/src/beginner/scripts/panda/world/bags/fly4_quad_rg_gain7.0_speed_3.5_trial_1_2016-04-13__23:31:35.bag\n"
       ]
      }
     ],
     "prompt_number": 18
    },
    {
     "cell_type": "code",
     "collapsed": false,
     "input": [
      "store = HDFStore('store.h5')"
     ],
     "language": "python",
     "metadata": {},
     "outputs": [
      {
       "ename": "NameError",
       "evalue": "name 'HDFStore' is not defined",
       "output_type": "pyerr",
       "traceback": [
        "\u001b[0;31m---------------------------------------------------------------------------\u001b[0m\n\u001b[0;31mNameError\u001b[0m                                 Traceback (most recent call last)",
        "\u001b[0;32m<ipython-input-59-de3060b689e6>\u001b[0m in \u001b[0;36m<module>\u001b[0;34m()\u001b[0m\n\u001b[0;32m----> 1\u001b[0;31m \u001b[0mstore\u001b[0m \u001b[0;34m=\u001b[0m \u001b[0mHDFStore\u001b[0m\u001b[0;34m(\u001b[0m\u001b[0;34m'store.h5'\u001b[0m\u001b[0;34m)\u001b[0m\u001b[0;34m\u001b[0m\u001b[0m\n\u001b[0m",
        "\u001b[0;31mNameError\u001b[0m: name 'HDFStore' is not defined"
       ]
      }
     ],
     "prompt_number": 59
    },
    {
     "cell_type": "code",
     "collapsed": false,
     "input": [
      "from hcpWorldGen import WorldGen\n",
      "df.plot.scatter('trajectory__position_x',y='trajectory__position_y',s=0.01)\n",
      "# plt.show()"
     ],
     "language": "python",
     "metadata": {},
     "outputs": [
      {
       "metadata": {},
       "output_type": "pyout",
       "prompt_number": 24,
       "text": [
        "<matplotlib.axes.AxesSubplot at 0x7f71e3595690>"
       ]
      }
     ],
     "prompt_number": 24
    },
    {
     "cell_type": "code",
     "collapsed": false,
     "input": [
      "import numpy as np\n",
      "import matplotlib.pyplot as plt\n",
      "import pickle as pl\n",
      "\n",
      "# Plot simple sinus function\n",
      "fig_handle = plt.figure()\n",
      "\n",
      "plt.scatter(df.trajectory__position_x,df.trajectory__position_y,s=0.01)\n",
      "\n",
      "# plt.scatter(initPlot.odd[:,0],initPlot.odd[:,1],color=initPlot.oddPlotColor,marker=initPlot.oddPlotMarker)\n",
      "# plt.scatter(initPlot.even[:,0],initPlot.even[:,1],color=initPlot.evenPlotColor,marker=initPlot.evenPlotMarker),marker='|',color='g')\n",
      "# plt.axis([0,255,0,255])\n",
      "\n",
      "plt.show()\n",
      "\n",
      "\n",
      "# Save figure handle to disk\n",
      "# pl.dump(fig_handle,file('sinus.pickle','w'))\n",
      "\n"
     ],
     "language": "python",
     "metadata": {},
     "outputs": [],
     "prompt_number": 47
    },
    {
     "cell_type": "code",
     "collapsed": false,
     "input": [
      "print type(fig_handle)"
     ],
     "language": "python",
     "metadata": {},
     "outputs": [
      {
       "output_type": "stream",
       "stream": "stdout",
       "text": [
        "<class 'matplotlib.figure.Figure'>\n"
       ]
      }
     ],
     "prompt_number": 48
    },
    {
     "cell_type": "code",
     "collapsed": false,
     "input": [
      "\n",
      "import pickle as pl\n",
      "# Save figure handle to disk\n",
      "\n",
      "# pl.dump(fig_handle,file('sinus.pickle','w'))\n"
     ],
     "language": "python",
     "metadata": {},
     "outputs": [],
     "prompt_number": 50
    },
    {
     "cell_type": "code",
     "collapsed": false,
     "input": [
      "plt.show()"
     ],
     "language": "python",
     "metadata": {},
     "outputs": [],
     "prompt_number": 32
    },
    {
     "cell_type": "code",
     "collapsed": false,
     "input": [
      "\n",
      "\n",
      "from bokeh.plotting import figure, output_file, show\n",
      "\n",
      "# prepare some data\n",
      "N = len(df.trajectory__position_x)\n",
      "x = df.trajectory__position_x\n",
      "y = df.trajectory__position_y\n",
      "radii = np.random.random(size=N) * 1.5\n",
      "colors = [\n",
      "    \"#%02x%02x%02x\" % (int(r), int(g), 150) for r, g in zip(50+2*x, 30+2*y)\n",
      "]\n",
      "\n",
      "# output to static HTML file (with CDN resources)\n",
      "output_file(\"color_scatter.html\", title=\"color_scatter.py example\", mode=\"cdn\")\n",
      "\n",
      "TOOLS=\"resize,crosshair,pan,wheel_zoom,box_zoom,reset,box_select,lasso_select,undo,redo,save\"\n",
      "\n",
      "# create a new plot with the tools above, and explicit ranges\n",
      "p = figure(tools=TOOLS, x_range=(0,256), y_range=(0,256),webgl=True)\n",
      "\n",
      "# add a circle renderer with vectorized colors and sizes\n",
      "p.circle(x,y,  fill_alpha=0.6, line_color=None)\n",
      "\n",
      "# show the results\n",
      "show(p)"
     ],
     "language": "python",
     "metadata": {},
     "outputs": [
      {
       "output_type": "stream",
       "stream": "stderr",
       "text": [
        "ERROR:/usr/local/lib/python2.7/dist-packages/bokeh/core/validation/check.pyc:E-1000 (COLUMN_LENGTHS): ColumnDataSource column lengths are not all the same: ColumnDataSource, ViewModel:ColumnDataSource, ref _id: 05226d9c-ff1b-464d-9e9b-aa1db5e00899\n"
       ]
      },
      {
       "output_type": "stream",
       "stream": "stderr",
       "text": [
        "ERROR:/usr/local/lib/python2.7/dist-packages/bokeh/core/validation/check.pyc:E-1000 (COLUMN_LENGTHS): ColumnDataSource column lengths are not all the same: ColumnDataSource, ViewModel:ColumnDataSource, ref _id: aed33aeb-566e-472a-929b-d200c0a150fa\n"
       ]
      }
     ],
     "prompt_number": 57
    },
    {
     "cell_type": "code",
     "collapsed": false,
     "input": [
      "import cPickle as pl\n",
      "pl.dump(fig,file('traj.pickle','w'))"
     ],
     "language": "python",
     "metadata": {},
     "outputs": [],
     "prompt_number": 28
    },
    {
     "cell_type": "code",
     "collapsed": false,
     "input": [
      "# Load figure from disk and display\n",
      "fig_handle2 = pl.load(open('sinus.pickle','rb'))\n",
      "fig_handle2.show()\n"
     ],
     "language": "python",
     "metadata": {},
     "outputs": []
    },
    {
     "cell_type": "code",
     "collapsed": false,
     "input": [
      "df.plot.hexbin(x='trajectory__position_x',y='trajectory__position_y',gridsize=50,bins='log')\n",
      "plt.show()\n"
     ],
     "language": "python",
     "metadata": {},
     "outputs": [],
     "prompt_number": 15
    },
    {
     "cell_type": "code",
     "collapsed": false,
     "input": [
      "plt.hexbin(x='trajectory__position_x',y='trajectory__position_y',gridsize=100,bins=log)\n",
      "plt.show()"
     ],
     "language": "python",
     "metadata": {},
     "outputs": [
      {
       "ename": "NameError",
       "evalue": "name 'log' is not defined",
       "output_type": "pyerr",
       "traceback": [
        "\u001b[0;31m---------------------------------------------------------------------------\u001b[0m\n\u001b[0;31mNameError\u001b[0m                                 Traceback (most recent call last)",
        "\u001b[0;32m<ipython-input-12-c51d27962966>\u001b[0m in \u001b[0;36m<module>\u001b[0;34m()\u001b[0m\n\u001b[0;32m----> 1\u001b[0;31m \u001b[0mplt\u001b[0m\u001b[0;34m.\u001b[0m\u001b[0mhexbin\u001b[0m\u001b[0;34m(\u001b[0m\u001b[0mx\u001b[0m\u001b[0;34m=\u001b[0m\u001b[0;34m'trajectory__position_x'\u001b[0m\u001b[0;34m,\u001b[0m\u001b[0my\u001b[0m\u001b[0;34m=\u001b[0m\u001b[0;34m'trajectory__position_y'\u001b[0m\u001b[0;34m,\u001b[0m\u001b[0mgridsize\u001b[0m\u001b[0;34m=\u001b[0m\u001b[0;36m100\u001b[0m\u001b[0;34m,\u001b[0m\u001b[0mbins\u001b[0m\u001b[0;34m=\u001b[0m\u001b[0mlog\u001b[0m\u001b[0;34m)\u001b[0m\u001b[0;34m\u001b[0m\u001b[0m\n\u001b[0m\u001b[1;32m      2\u001b[0m \u001b[0mplt\u001b[0m\u001b[0;34m.\u001b[0m\u001b[0mshow\u001b[0m\u001b[0;34m(\u001b[0m\u001b[0;34m)\u001b[0m\u001b[0;34m\u001b[0m\u001b[0m\n",
        "\u001b[0;31mNameError\u001b[0m: name 'log' is not defined"
       ]
      }
     ],
     "prompt_number": 12
    },
    {
     "cell_type": "code",
     "collapsed": false,
     "input": [
      "Saving Matplotlib Figures Using Pickle - Random Access Science"
     ],
     "language": "python",
     "metadata": {},
     "outputs": []
    },
    {
     "cell_type": "code",
     "collapsed": false,
     "input": [
      "pd.tools.plotting.lag_plot(df.trajectory__position_x)\n",
      "plt.show()"
     ],
     "language": "python",
     "metadata": {},
     "outputs": [],
     "prompt_number": 26
    },
    {
     "cell_type": "code",
     "collapsed": false,
     "input": [
      "pd.tools.plotting.autocorrelation_plot(df.trajectory__position_x)\n",
      "plt.show()\n"
     ],
     "language": "python",
     "metadata": {},
     "outputs": [],
     "prompt_number": 27
    },
    {
     "cell_type": "code",
     "collapsed": false,
     "input": [
      "rosbag_pandas.bag_to_dataframe("
     ],
     "language": "python",
     "metadata": {},
     "outputs": []
    }
   ],
   "metadata": {}
  }
 ]
}